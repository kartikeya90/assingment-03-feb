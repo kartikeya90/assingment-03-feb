{
 "cells": [
  {
   "cell_type": "markdown",
   "id": "2a022673-bad1-4a0a-88f0-78bb75552e47",
   "metadata": {},
   "source": [
    "Q1. Which keyword is used to create a function? Create a function to return a list of odd numbers in the\n",
    "range of 1 to 25."
   ]
  },
  {
   "cell_type": "code",
   "execution_count": 6,
   "id": "e0a36a73-933b-45d5-9285-9edbfca1e8ff",
   "metadata": {},
   "outputs": [
    {
     "name": "stdout",
     "output_type": "stream",
     "text": [
      "3 5 7 9 11 13 15 17 19 21 23 "
     ]
    }
   ],
   "source": [
    "start, end = 2, 24\n",
    " \n",
    "for num in range(start, end + 1):\n",
    "     \n",
    "    if num % 2 != 0:\n",
    "        print(num, end = \" \")"
   ]
  },
  {
   "cell_type": "markdown",
   "id": "5a0fc16c-97d7-4e00-b785-5131578a79ae",
   "metadata": {},
   "source": [
    "Q2. Why *args and **kwargs is used in some functions? Create a function each for *args and **kwargs\n",
    "to demonstrate their use."
   ]
  },
  {
   "cell_type": "code",
   "execution_count": 3,
   "id": "50163e9a-06ac-4fac-8076-4a547abbf462",
   "metadata": {},
   "outputs": [
    {
     "name": "stdout",
     "output_type": "stream",
     "text": [
      "Hello\n",
      "Welcome\n",
      "Kartikey\n",
      "Dubey\n"
     ]
    }
   ],
   "source": [
    "def myFun(*argv):\n",
    "    for arg in argv:\n",
    "        print(arg)\n",
    " \n",
    " myFun('Hello', 'Welcome', 'Kartikey', 'Dubey')"
   ]
  },
  {
   "cell_type": "code",
   "execution_count": 5,
   "id": "55310129-ad13-4a21-bd1e-8dafa5189ea3",
   "metadata": {},
   "outputs": [
    {
     "name": "stdout",
     "output_type": "stream",
     "text": [
      "first == Kartikeya\n",
      "mid == kumar\n",
      "last == Dubey\n"
     ]
    }
   ],
   "source": [
    "def myFun(arg1, **kwargs):\n",
    "    for key, value in kwargs.items():\n",
    "        print(\"%s == %s\" % (key, value))\n",
    " \n",
    " \n",
    "myFun(\"Mr\", first='Kartikeya', mid='kumar', last='Dubey')"
   ]
  },
  {
   "cell_type": "markdown",
   "id": "90b7f2c1-0dfe-49c3-98e7-066c750b84fe",
   "metadata": {},
   "source": [
    "Q3.What is an iterator in python? Name the method used to initialise the iterator object and the method\n",
    "used for iteration. Use these methods to print the first five elements of the given list [2, 4, 6, 8, 10, 12, 14,\n",
    "16, 18, 20]."
   ]
  },
  {
   "cell_type": "code",
   "execution_count": 9,
   "id": "0e9a37d9-ebfb-48bc-bc23-f75ebe87484f",
   "metadata": {},
   "outputs": [
    {
     "name": "stdout",
     "output_type": "stream",
     "text": [
      "2\n",
      "4\n",
      "6\n",
      "8\n",
      "10\n",
      "12\n"
     ]
    }
   ],
   "source": [
    " \n",
    "my_list = [2, 4, 6, 8, 10, 12, 14,16,18,20]\n",
    "\n",
    "iterator = iter(my_list)\n",
    "\n",
    "print(next(iterator))\n",
    "\n",
    "print(next(iterator)) \n",
    "\n",
    "print(next(iterator)) \n",
    "\n",
    "print(next(iterator)) \n",
    "\n",
    "print(next(iterator)) \n",
    "\n",
    "print(next(iterator)) \n",
    "\n"
   ]
  },
  {
   "cell_type": "markdown",
   "id": "367c49a3-55c4-4aa6-acd8-8deac9606e32",
   "metadata": {},
   "source": [
    "Q4.What is a generator function in python? Why yield keyword is used? Give an example of a generator\n",
    "function."
   ]
  },
  {
   "cell_type": "code",
   "execution_count": 15,
   "id": "861c2406-42f6-4a36-a8af-5cc3ae9fe0ad",
   "metadata": {},
   "outputs": [
    {
     "name": "stdout",
     "output_type": "stream",
     "text": [
      "1000\n",
      "1100\n",
      "1200\n",
      "1300\n",
      "1400\n"
     ]
    }
   ],
   "source": [
    "def my_generator(n):\n",
    "\n",
    "    value = 1000\n",
    "\n",
    "    while value < n:\n",
    "\n",
    "        yield value\n",
    "\n",
    "        value += 100\n",
    "\n",
    "for value in my_generator(1500):\n",
    "\n",
    "    print(value)"
   ]
  },
  {
   "cell_type": "markdown",
   "id": "7c571a4e-d399-4110-a3f2-31457c81210e",
   "metadata": {},
   "source": [
    "Q5. Create a generator function for prime numbers less than 1000. Use the next() method to print the\n",
    "first 20 prime numbers."
   ]
  },
  {
   "cell_type": "code",
   "execution_count": 33,
   "id": "b84e8e70-b414-4f9b-832c-6c18a0d9f498",
   "metadata": {},
   "outputs": [
    {
     "name": "stdout",
     "output_type": "stream",
     "text": [
      "2 3 5 7 11 13 17 19 23 29 31 37 41 43 47 53 59 61 67 71 73 79 83 89 97 101 103 107 109 113 127 131 137 139 149 151 157 163 167 173 179 181 191 193 197 199 211 223 227 229 233 239 241 251 257 263 269 271 277 281 283 293 307 311 313 317 331 337 347 349 353 359 367 373 379 383 389 397 401 409 419 421 431 433 439 443 449 457 461 463 467 479 487 491 499 503 509 521 523 541 547 557 563 569 571 577 587 593 599 601 607 613 617 619 631 641 643 647 653 659 661 673 677 683 691 701 709 719 727 733 739 743 751 757 761 769 773 787 797 809 811 821 823 827 829 839 853 857 859 863 877 881 883 887 907 911 919 929 937 941 947 953 967 971 977 983 991 997 "
     ]
    }
   ],
   "source": [
    "\n",
    "def isPrime(n):\n",
    "  if(n==1 or n==0):\n",
    "    return False\n",
    "    \n",
    "  for i in range(2,(n//2)+1):\n",
    "    if(n%i==0):\n",
    "      return False\n",
    "\n",
    "  return True\n",
    "  \n",
    "N = 1000;\n",
    "#check \n",
    "for i in range(1,N+1):\n",
    "  #check if current number is prime\n",
    "  if(isPrime(i)):\n",
    "    print(i,end=\" \")\n"
   ]
  },
  {
   "cell_type": "markdown",
   "id": "f6b09e38-738c-4d5b-96c5-ed715defdd98",
   "metadata": {},
   "source": [
    "Q.6Write a python program to print the first 10 Fibonacci numbers using a while loop."
   ]
  },
  {
   "cell_type": "code",
   "execution_count": 19,
   "id": "d0fba542-9727-4427-9aa0-24bf2fc86129",
   "metadata": {},
   "outputs": [
    {
     "name": "stdout",
     "output_type": "stream",
     "text": [
      "0\n",
      "1\n",
      "1\n",
      "2\n",
      "3\n",
      "5\n",
      "8\n",
      "13\n",
      "21\n",
      "34\n"
     ]
    }
   ],
   "source": [
    "\n",
    "i = 0\n",
    "First_Value = 0\n",
    "Second_Value = 1\n",
    "           \n",
    "while(i < 10):\n",
    "    if(i <= 1):\n",
    "        Next = i\n",
    "    else:\n",
    "        Next = First_Value + Second_Value\n",
    "        First_Value = Second_Value\n",
    "        Second_Value = Next\n",
    "    print(Next)\n",
    "    i = i + 1"
   ]
  },
  {
   "cell_type": "markdown",
   "id": "7f7d7662-b810-46b1-8819-3ebaeffb7df1",
   "metadata": {},
   "source": [
    "Q7.Write a List Comprehension to iterate through the given string: ‘pwskills’.\n",
    "Expected output: ['p', 'w', 's', 'k', 'i', 'l', 'l', 's']"
   ]
  },
  {
   "cell_type": "code",
   "execution_count": 21,
   "id": "45b69b9a-2152-4433-9b46-1be57314ee96",
   "metadata": {},
   "outputs": [
    {
     "name": "stdout",
     "output_type": "stream",
     "text": [
      "['p', 'w', 's', 'k', 'i', 'l', 'l', 's']\n"
     ]
    }
   ],
   "source": [
    "Kartik_letters = [ letter for letter in 'pwskills' ]\n",
    "print( Kartik_letters)"
   ]
  },
  {
   "cell_type": "markdown",
   "id": "4e54468f-5c87-413c-b263-edfe74f9d587",
   "metadata": {},
   "source": [
    "Q9.Write a code to print odd numbers from 1 to 100 using list comprehension."
   ]
  },
  {
   "cell_type": "code",
   "execution_count": 24,
   "id": "dd72aade-5b2f-4301-87ad-ab1f32bbe156",
   "metadata": {},
   "outputs": [
    {
     "name": "stdout",
     "output_type": "stream",
     "text": [
      "[1, 3, 5, 7, 9, 11, 13, 15, 17, 19, 21, 23, 25, 27, 29, 31, 33, 35, 37, 39, 41, 43, 45, 47, 49, 51, 53, 55, 57, 59, 61, 63, 65, 67, 69, 71, 73, 75, 77, 79, 81, 83, 85, 87, 89, 91, 93, 95, 97, 99]\n"
     ]
    }
   ],
   "source": [
    "number_list = [ x for x in range(1,100) if x % 2 != 0]\n",
    "print(number_list)"
   ]
  },
  {
   "cell_type": "code",
   "execution_count": null,
   "id": "e2db4538-a603-4a14-b04a-d53d73b3c1e4",
   "metadata": {},
   "outputs": [],
   "source": []
  }
 ],
 "metadata": {
  "kernelspec": {
   "display_name": "Python 3 (ipykernel)",
   "language": "python",
   "name": "python3"
  },
  "language_info": {
   "codemirror_mode": {
    "name": "ipython",
    "version": 3
   },
   "file_extension": ".py",
   "mimetype": "text/x-python",
   "name": "python",
   "nbconvert_exporter": "python",
   "pygments_lexer": "ipython3",
   "version": "3.10.8"
  }
 },
 "nbformat": 4,
 "nbformat_minor": 5
}
